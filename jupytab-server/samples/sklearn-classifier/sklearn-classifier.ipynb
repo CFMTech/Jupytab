{
 "cells": [
  {
   "cell_type": "code",
   "execution_count": 1,
   "metadata": {},
   "outputs": [],
   "source": [
    "import pandas as pd\n",
    "import numpy as np\n",
    "import jupytab\n",
    "from sklearn.datasets import load_iris\n",
    "from sklearn.neural_network import MLPClassifier"
   ]
  },
  {
   "cell_type": "code",
   "execution_count": 2,
   "metadata": {},
   "outputs": [
    {
     "data": {
      "text/html": [
       "<div>\n",
       "<style scoped>\n",
       "    .dataframe tbody tr th:only-of-type {\n",
       "        vertical-align: middle;\n",
       "    }\n",
       "\n",
       "    .dataframe tbody tr th {\n",
       "        vertical-align: top;\n",
       "    }\n",
       "\n",
       "    .dataframe thead th {\n",
       "        text-align: right;\n",
       "    }\n",
       "</style>\n",
       "<table border=\"1\" class=\"dataframe\">\n",
       "  <thead>\n",
       "    <tr style=\"text-align: right;\">\n",
       "      <th></th>\n",
       "      <th>sepal length (cm)</th>\n",
       "      <th>sepal width (cm)</th>\n",
       "      <th>petal length (cm)</th>\n",
       "      <th>petal width (cm)</th>\n",
       "    </tr>\n",
       "  </thead>\n",
       "  <tbody>\n",
       "    <tr>\n",
       "      <th>105</th>\n",
       "      <td>7.6</td>\n",
       "      <td>3.0</td>\n",
       "      <td>6.6</td>\n",
       "      <td>2.1</td>\n",
       "    </tr>\n",
       "    <tr>\n",
       "      <th>123</th>\n",
       "      <td>6.3</td>\n",
       "      <td>2.7</td>\n",
       "      <td>4.9</td>\n",
       "      <td>1.8</td>\n",
       "    </tr>\n",
       "    <tr>\n",
       "      <th>61</th>\n",
       "      <td>5.9</td>\n",
       "      <td>3.0</td>\n",
       "      <td>4.2</td>\n",
       "      <td>1.5</td>\n",
       "    </tr>\n",
       "    <tr>\n",
       "      <th>75</th>\n",
       "      <td>6.6</td>\n",
       "      <td>3.0</td>\n",
       "      <td>4.4</td>\n",
       "      <td>1.4</td>\n",
       "    </tr>\n",
       "    <tr>\n",
       "      <th>39</th>\n",
       "      <td>5.1</td>\n",
       "      <td>3.4</td>\n",
       "      <td>1.5</td>\n",
       "      <td>0.2</td>\n",
       "    </tr>\n",
       "  </tbody>\n",
       "</table>\n",
       "</div>"
      ],
      "text/plain": [
       "     sepal length (cm)  sepal width (cm)  petal length (cm)  petal width (cm)\n",
       "105                7.6               3.0                6.6               2.1\n",
       "123                6.3               2.7                4.9               1.8\n",
       "61                 5.9               3.0                4.2               1.5\n",
       "75                 6.6               3.0                4.4               1.4\n",
       "39                 5.1               3.4                1.5               0.2"
      ]
     },
     "execution_count": 2,
     "metadata": {},
     "output_type": "execute_result"
    }
   ],
   "source": [
    "iris = load_iris()\n",
    "iris_data_df = pd.DataFrame(columns=iris.feature_names, data=iris.data)\n",
    "iris_target_df = pd.DataFrame(columns=['target'], data=iris.target)\n",
    "iris_target_class_df = pd.DataFrame(columns=['target_name'], data=iris.target_names)\n",
    "\n",
    "tables = jupytab.Tables()\n",
    "\n",
    "tables['iris'] = jupytab.DataFrameTable(\"Iris DataSet\", iris_data_df, include_index=True)\n",
    "tables['iris_target'] = jupytab.DataFrameTable(\"Iris Classification Target\", iris_target_df, include_index=True)\n",
    "tables['iris_target_class'] = jupytab.DataFrameTable(\"Iris Classes\", iris_target_class_df, include_index=True)\n",
    "\n",
    "iris_data_df.sample(5)"
   ]
  },
  {
   "cell_type": "code",
   "execution_count": 7,
   "metadata": {},
   "outputs": [
    {
     "name": "stderr",
     "output_type": "stream",
     "text": [
      "/home/btribonde/conda/envs/jupytab-demo/lib/python3.6/site-packages/sklearn/neural_network/multilayer_perceptron.py:564: ConvergenceWarning: Stochastic Optimizer: Maximum iterations (200) reached and the optimization hasn't converged yet.\n",
      "  % self.max_iter, ConvergenceWarning)\n"
     ]
    },
    {
     "data": {
      "text/plain": [
       "'virginica'"
      ]
     },
     "execution_count": 7,
     "metadata": {},
     "output_type": "execute_result"
    }
   ],
   "source": [
    "clf = MLPClassifier().fit(iris.data, iris.target)\n",
    "\n",
    "def predictor(sepal_length_cm, sepal_width_cm, petal_length_cm, petal_width_cm):\n",
    "    class_predict = clf.predict([[sepal_length_cm, sepal_width_cm, petal_length_cm, petal_width_cm]])\n",
    "    return iris.target_names[class_predict][0]\n",
    "\n",
    "functions = jupytab.Functions()\n",
    "functions['predict'] = jupytab.Function('A predictor for Iris DataSet', predictor)\n",
    "\n",
    "predictor(0.5, 5, 4, 2)"
   ]
  },
  {
   "cell_type": "code",
   "execution_count": 4,
   "metadata": {},
   "outputs": [
    {
     "name": "stdout",
     "output_type": "stream",
     "text": [
      "[{\"id\": \"iris\", \"alias\": \"Iris DataSet\", \"columns\": [{\"id\": \"index\", \"dataType\": \"int\"}, {\"id\": \"sepal_length_cm_\", \"dataType\": \"float\"}, {\"id\": \"sepal_width_cm_\", \"dataType\": \"float\"}, {\"id\": \"petal_length_cm_\", \"dataType\": \"float\"}, {\"id\": \"petal_width_cm_\", \"dataType\": \"float\"}]}, {\"id\": \"iris_target\", \"alias\": \"Iris Classification Target\", \"columns\": [{\"id\": \"index\", \"dataType\": \"int\"}, {\"id\": \"target\", \"dataType\": \"int\"}]}, {\"id\": \"iris_target_class\", \"alias\": \"Iris Classes\", \"columns\": [{\"id\": \"index\", \"dataType\": \"int\"}, {\"id\": \"target_name\", \"dataType\": \"string\"}]}]\n"
     ]
    }
   ],
   "source": [
    "# GET /schema\n",
    "tables.render_schema()"
   ]
  },
  {
   "cell_type": "code",
   "execution_count": 5,
   "metadata": {},
   "outputs": [
    {
     "ename": "NameError",
     "evalue": "name 'REQUEST' is not defined",
     "output_type": "error",
     "traceback": [
      "\u001b[0;31m---------------------------------------------------------------------------\u001b[0m",
      "\u001b[0;31mNameError\u001b[0m                                 Traceback (most recent call last)",
      "\u001b[0;32m<ipython-input-5-90cb191191f7>\u001b[0m in \u001b[0;36m<module>\u001b[0;34m()\u001b[0m\n\u001b[1;32m      1\u001b[0m \u001b[0;31m# GET /data\u001b[0m\u001b[0;34m\u001b[0m\u001b[0;34m\u001b[0m\u001b[0;34m\u001b[0m\u001b[0m\n\u001b[0;32m----> 2\u001b[0;31m \u001b[0mtables\u001b[0m\u001b[0;34m.\u001b[0m\u001b[0mrender_data\u001b[0m\u001b[0;34m(\u001b[0m\u001b[0mREQUEST\u001b[0m\u001b[0;34m)\u001b[0m\u001b[0;34m\u001b[0m\u001b[0;34m\u001b[0m\u001b[0m\n\u001b[0m",
      "\u001b[0;31mNameError\u001b[0m: name 'REQUEST' is not defined"
     ]
    }
   ],
   "source": [
    "# GET /data\n",
    "tables.render_data(REQUEST)"
   ]
  },
  {
   "cell_type": "code",
   "execution_count": 6,
   "metadata": {},
   "outputs": [
    {
     "ename": "NameError",
     "evalue": "name 'REQUEST' is not defined",
     "output_type": "error",
     "traceback": [
      "\u001b[0;31m---------------------------------------------------------------------------\u001b[0m",
      "\u001b[0;31mNameError\u001b[0m                                 Traceback (most recent call last)",
      "\u001b[0;32m<ipython-input-6-6cb7dbf88093>\u001b[0m in \u001b[0;36m<module>\u001b[0;34m()\u001b[0m\n\u001b[1;32m      1\u001b[0m \u001b[0;31m# POST /evaluate\u001b[0m\u001b[0;34m\u001b[0m\u001b[0;34m\u001b[0m\u001b[0;34m\u001b[0m\u001b[0m\n\u001b[0;32m----> 2\u001b[0;31m \u001b[0mfunctions\u001b[0m\u001b[0;34m.\u001b[0m\u001b[0mrender_evaluate\u001b[0m\u001b[0;34m(\u001b[0m\u001b[0mREQUEST\u001b[0m\u001b[0;34m)\u001b[0m\u001b[0;34m\u001b[0m\u001b[0;34m\u001b[0m\u001b[0m\n\u001b[0m",
      "\u001b[0;31mNameError\u001b[0m: name 'REQUEST' is not defined"
     ]
    }
   ],
   "source": [
    "# POST /evaluate\n",
    "functions.render_evaluate(REQUEST)"
   ]
  }
 ],
 "metadata": {
  "hide_input": false,
  "kernelspec": {
   "display_name": "jupytab-demo",
   "language": "python",
   "name": "jupytab-demo"
  },
  "language_info": {
   "codemirror_mode": {
    "name": "ipython",
    "version": 3
   },
   "file_extension": ".py",
   "mimetype": "text/x-python",
   "name": "python",
   "nbconvert_exporter": "python",
   "pygments_lexer": "ipython3",
   "version": "3.6.8"
  },
  "toc": {
   "base_numbering": 1,
   "nav_menu": {},
   "number_sections": true,
   "sideBar": true,
   "skip_h1_title": false,
   "title_cell": "Table of Contents",
   "title_sidebar": "Contents",
   "toc_cell": false,
   "toc_position": {},
   "toc_section_display": true,
   "toc_window_display": false
  }
 },
 "nbformat": 4,
 "nbformat_minor": 4
}
