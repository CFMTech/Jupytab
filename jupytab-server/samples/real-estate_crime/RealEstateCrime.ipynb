{
 "cells": [
  {
   "cell_type": "markdown",
   "metadata": {
    "pycharm": {}
   },
   "source": [
    "# Real Estate Crime"
   ]
  },
  {
   "cell_type": "markdown",
   "metadata": {
    "pycharm": {}
   },
   "source": [
    "This notebook exposes crime around Sacramento, via a set of CSV files with a bit of pandas magic to create \n",
    "a combined data source for Tableau.\n"
   ]
  },
  {
   "cell_type": "code",
   "execution_count": null,
   "metadata": {
    "pycharm": {}
   },
   "outputs": [],
   "source": [
    "import pandas as pd\n",
    "\n",
    "import jupytab"
   ]
  },
  {
   "cell_type": "code",
   "execution_count": null,
   "metadata": {
    "pycharm": {}
   },
   "outputs": [],
   "source": [
    "crime_df = pd.read_csv('sacramento_crime.csv')\n",
    "real_estate_df = pd.read_csv('sacramento_realestate.csv')\n",
    "combined_df = crime_df.append(real_estate_df)"
   ]
  },
  {
   "cell_type": "markdown",
   "metadata": {},
   "source": [
    "## Table definition\n",
    "This cell will create a Table repository that will allow to expose data through jupyter kernel gateway"
   ]
  },
  {
   "cell_type": "code",
   "execution_count": null,
   "metadata": {
    "pycharm": {}
   },
   "outputs": [],
   "source": [
    "tables = jupytab.Tables()\n",
    "tables['crime'] = jupytab.DataFrameTable('Crime Statistics sample in Sacramento', crime_df)\n",
    "tables['real_estate'] = jupytab.DataFrameTable('Real Estate transaction sample in Sacramento', real_estate_df)\n",
    "tables['combined'] = jupytab.DataFrameTable('Combination of data sources', combined_df)"
   ]
  },
  {
   "cell_type": "markdown",
   "metadata": {
    "pycharm": {}
   },
   "source": [
    "## Schema rendering\n",
    "\n",
    "This cell serves schema in json format. The following content is expected when running in a Jupyter notebook\n",
    "\n",
    "`[{\"id\": \"crime\", \"alias\": \"Crime Statistics sample in Sacramento\", \"columns\": [{\"id\": \"cdatetime\", \"dataType\": \"string\"}, {\"id\": \"address\", \"dataType\": \"string\"}, {\"id\": \"district\", \"dataType\": \"int\"}, {\"id\": \"beat\", \"dataType\": \"string\"}, {\"id\": \"grid\", \"dataType\": \"int\"}, {\"id\": \"crimedescr\", \"dataType\": \"string\"}, {\"id\": \"ucr_ncic_code\", \"dataType\": \"int\"}, {\"id\": \"latitude\", \"dataType\": \"float\"}, {\"id\": \"longitude\", \"dataType\": \"float\"}]},...]`\n",
    "\n",
    "The `# GET /schema` **MUST** be provided as the first line of the cell"
   ]
  },
  {
   "cell_type": "code",
   "execution_count": null,
   "metadata": {
    "pycharm": {}
   },
   "outputs": [],
   "source": [
    "# GET /schema\n",
    "tables.render_schema()"
   ]
  },
  {
   "cell_type": "markdown",
   "metadata": {
    "pycharm": {}
   },
   "source": [
    "## Data rendering\n",
    "This cell serves dataframe in json format.\n",
    "\n",
    "The following error is expected when running this cell in a jupyter environment as Jupyter Kernel Gateway will provide the REQUEST object.\n",
    "` --------------------------------------------------------------------------\n",
    " NameError                                 Traceback (most recent call last)\n",
    " <ipython-input-9-90cb191191f7> in <module>()\n",
    "       1  GET /data\n",
    " ----> 2  tables.render_data(REQUEST)\n",
    " NameError: name 'REQUEST' is not defined\n",
    "`\n",
    "\n",
    "The `# GET /data` **MUST** be provided as the first line of the cell"
   ]
  },
  {
   "cell_type": "code",
   "execution_count": null,
   "metadata": {
    "pycharm": {}
   },
   "outputs": [],
   "source": [
    "# GET /data\n",
    "tables.render_data(REQUEST)"
   ]
  }
 ],
 "metadata": {
  "kernelspec": {
   "display_name": "jupytab-demo",
   "language": "python",
   "name": "jupytab-demo"
  },
  "language_info": {
   "codemirror_mode": {
    "name": "ipython",
    "version": 3
   },
   "file_extension": ".py",
   "mimetype": "text/x-python",
   "name": "python",
   "nbconvert_exporter": "python",
   "pygments_lexer": "ipython3",
   "version": "3.6.8"
  }
 },
 "nbformat": 4,
 "nbformat_minor": 1
}
