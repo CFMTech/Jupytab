{
 "cells": [
  {
   "cell_type": "markdown",
   "metadata": {
    "pycharm": {}
   },
   "source": [
    "# Air Flights\n",
    "This notebook uses [OpenSky](https://opensky-network.org/)'s HTTP  Rest API to detect flights positions. \n",
    "Data is issued from a network of land probes so it will not display datas for planes currently flying over the \n",
    "ocean or uninhabited area.\n"
   ]
  },
  {
   "cell_type": "code",
   "execution_count": null,
   "metadata": {
    "pycharm": {}
   },
   "outputs": [],
   "source": [
    "import os\n",
    "import requests\n",
    "import json\n",
    "import urllib3\n",
    "import pandas as pd\n",
    "\n",
    "from jupytab_utils import Tables, DataFrameTable"
   ]
  },
  {
   "cell_type": "markdown",
   "metadata": {},
   "source": [
    "# Proxy configuration\n",
    "A proxy may be defined as an environment variable (HTTP_PROXY, HTTPS_PROXY) and used to retrieve datas from OpenSky Rest API"
   ]
  },
  {
   "cell_type": "code",
   "execution_count": null,
   "metadata": {
    "pycharm": {}
   },
   "outputs": [],
   "source": [
    "http_proxy  = os.environ.get('HTTP_PROXY')\n",
    "https_proxy = os.environ.get('HTTPS_PROXY')\n",
    "\n",
    "urllib3.disable_warnings(urllib3.exceptions.InsecureRequestWarning)\n",
    "proxies = {}\n",
    "\n",
    "if http_proxy:\n",
    "    proxies[\"http\"] = http_proxy\n",
    "    print(\"HTTP proxy defined as {}\".format(http_proxy))\n",
    "else:\n",
    "    print(\"No HTTP proxy defined\")\n",
    "    \n",
    "if https_proxy:\n",
    "    proxies[\"https\"] = https_proxy\n",
    "    print(\"HTTPS proxy defined as {}\".format(http_proxy))\n",
    "else:\n",
    "    print(\"No HTTPS proxy defined\")"
   ]
  },
  {
   "cell_type": "markdown",
   "metadata": {},
   "source": [
    "# OpenSky Rest API call and DataFrame creation\n"
   ]
  },
  {
   "cell_type": "code",
   "execution_count": null,
   "metadata": {
    "pycharm": {}
   },
   "outputs": [],
   "source": [
    "\n",
    "\n",
    "def compute_flights():\n",
    "    try:\n",
    "        states = requests.get(url='https://opensky-network.org/api/states/all',\n",
    "                              proxies=proxies,\n",
    "                              verify=False,\n",
    "                              timeout=5)\n",
    "        states_json = states.json()['states']\n",
    "    except Exception as e:\n",
    "        states_json = [{'icao24': str(e)}]\n",
    "\n",
    "    return pd.DataFrame(\n",
    "            data=states_json,\n",
    "            columns=['icao24', 'callsign', 'origin_country', 'time_position', 'last_contact',\n",
    "                     'longitude', 'latitude', 'baro_altitude', 'on_ground', 'velocity',\n",
    "                     'true_track', 'vertical_rate', 'sensors', 'geo_altitude', 'squawk',\n",
    "                     'spi', 'position_source'])\\\n",
    "        .set_index('icao24')\n",
    "\n",
    "flight_df = compute_flights()\n",
    "flight_df.head(5)"
   ]
  },
  {
   "cell_type": "markdown",
   "metadata": {},
   "source": [
    "## Table definition\n",
    "This cell will create a Table repository that will allow to expose data through jupyter kernel gateway"
   ]
  },
  {
   "cell_type": "code",
   "execution_count": null,
   "metadata": {},
   "outputs": [],
   "source": [
    "tables = Tables()\n",
    "tables['flights'] = DataFrameTable('All flights', dataframe=flight_df, refresh_method=compute_flights)"
   ]
  },
  {
   "cell_type": "markdown",
   "metadata": {},
   "source": [
    "## Schema rendering\n",
    "\n",
    "This cell serves schema in json format. The following content is expected when running in a Jupyter notebook\n",
    "\n",
    "`[{\"id\": \"flights\", \"alias\": \"All flights\", \"columns\": [{\"id\": \"callsign\", \"dataType\": \"string\"}, {\"id\": \"origin_country\", \"dataType\": \"string\"}, {\"id\": \"time_position\", \"dataType\": \"float\"}, {\"id\": \"last_contact\", \"dataType\": \"int\"}, {\"id\": \"longitude\", \"dataType\": \"float\"}, {\"id\": \"latitude\", \"dataType\": \"float\"}, {\"id\": \"baro_altitude\", \"dataType\": \"float\"}, {\"id\": \"on_ground\", \"dataType\":,...]`\n",
    "\n",
    "The `# GET /schema` **MUST** be provided as the first line of the cell"
   ]
  },
  {
   "cell_type": "code",
   "execution_count": null,
   "metadata": {
    "pycharm": {}
   },
   "outputs": [],
   "source": [
    "# GET /schema\n",
    "tables.render_schema()"
   ]
  },
  {
   "cell_type": "markdown",
   "metadata": {},
   "source": [
    "## Data rendering\n",
    "This cell serves dataframe in json format.\n",
    "\n",
    "The following error is expected when running this cell in a jupyter environment as Jupyter Kernel Gateway will provide the REQUEST object.\n",
    "` --------------------------------------------------------------------------\n",
    " NameError                                 Traceback (most recent call last)\n",
    " <ipython-input-9-90cb191191f7> in <module>()\n",
    "       1  GET /data\n",
    " ----> 2  tables.render_data(REQUEST)\n",
    " NameError: name 'REQUEST' is not defined\n",
    "`\n",
    "\n",
    "The `# GET /data` **MUST** be provided as the first line of the cell"
   ]
  },
  {
   "cell_type": "code",
   "execution_count": null,
   "metadata": {
    "pycharm": {}
   },
   "outputs": [],
   "source": [
    "# GET /data\n",
    "tables.render_data(REQUEST)"
   ]
  }
 ],
 "metadata": {
  "kernelspec": {
   "display_name": "Jupytab Kernel",
   "language": "python",
   "name": "jupytab-demo"
  },
  "language_info": {
   "codemirror_mode": {
    "name": "ipython",
    "version": 3
   },
   "file_extension": ".py",
   "mimetype": "text/x-python",
   "name": "python",
   "nbconvert_exporter": "python",
   "pygments_lexer": "ipython3",
   "version": "3.6.2"
  },
  "toc": {
   "base_numbering": 1,
   "nav_menu": {},
   "number_sections": true,
   "sideBar": true,
   "skip_h1_title": false,
   "title_cell": "Table of Contents",
   "title_sidebar": "Contents",
   "toc_cell": false,
   "toc_position": {},
   "toc_section_display": true,
   "toc_window_display": false
  }
 },
 "nbformat": 4,
 "nbformat_minor": 1
}
